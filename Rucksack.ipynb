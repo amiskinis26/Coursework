{
  "nbformat": 4,
  "nbformat_minor": 0,
  "metadata": {
    "colab": {
      "provenance": []
    },
    "kernelspec": {
      "name": "python3",
      "display_name": "Python 3"
    },
    "language_info": {
      "name": "python"
    }
  },
  "cells": [
    {
      "cell_type": "code",
      "execution_count": 85,
      "metadata": {
        "colab": {
          "base_uri": "https://localhost:8080/"
        },
        "id": "i2OWvE7c2HsV",
        "outputId": "2df76687-0e2e-4772-dff5-e0653f8d742b"
      },
      "outputs": [
        {
          "output_type": "execute_result",
          "data": {
            "text/plain": [
              "['lDDWVvlVVQfDMlWjGJTRjQCgTGLCLj\\n',\n",
              " 'ZLZpwzLBhwZhSLBsjntGCtgJRjbnJgSG\\n',\n",
              " 'qppdZzzsdsmZphrNsNwZhllDHLcVVDWFPvFWcWdFlv\\n',\n",
              " 'ztdhgJDBJghmQtPFQPpmbw\\n',\n",
              " 'lVlLRcnfllcfVcccGnSQVLcsTPFbpwsPFspTSqmbpswpbF\\n',\n",
              " 'cCHRGcGcCRGlGrGcVGnrdWHWBDzBNhhQZWWNBhJz\\n',\n",
              " 'NfnSSQpdnRSSpvWdSsjZDGNDjGDwTGTjHG\\n',\n",
              " 'wlPzPqzPFbMmqPCFCJmbsjbHLDDHDZjDjbGHsT\\n',\n",
              " 'gwMlgmtmPcqVVvhVnvcRnn\\n',\n",
              " 'cBNBBCHhbhNhblBcCCvcBHSwTwDQSqRwDQpDRsjHST\\n']"
            ]
          },
          "metadata": {},
          "execution_count": 85
        }
      ],
      "source": [
        "with open('rucksack.txt', 'r') as f:\n",
        "  data = f.readlines()\n",
        "\n",
        "data[0:10]"
      ]
    },
    {
      "cell_type": "code",
      "source": [
        "cleaned_data = []\n",
        "for line in data:\n",
        "  cleaned_data.append(line.strip())\n",
        "\n",
        "cleaned_data[0:10]"
      ],
      "metadata": {
        "colab": {
          "base_uri": "https://localhost:8080/"
        },
        "id": "-I6t7Pt56wlB",
        "outputId": "6114b802-aaf1-4bc8-ff8c-e1bf062b858c"
      },
      "execution_count": 86,
      "outputs": [
        {
          "output_type": "execute_result",
          "data": {
            "text/plain": [
              "['lDDWVvlVVQfDMlWjGJTRjQCgTGLCLj',\n",
              " 'ZLZpwzLBhwZhSLBsjntGCtgJRjbnJgSG',\n",
              " 'qppdZzzsdsmZphrNsNwZhllDHLcVVDWFPvFWcWdFlv',\n",
              " 'ztdhgJDBJghmQtPFQPpmbw',\n",
              " 'lVlLRcnfllcfVcccGnSQVLcsTPFbpwsPFspTSqmbpswpbF',\n",
              " 'cCHRGcGcCRGlGrGcVGnrdWHWBDzBNhhQZWWNBhJz',\n",
              " 'NfnSSQpdnRSSpvWdSsjZDGNDjGDwTGTjHG',\n",
              " 'wlPzPqzPFbMmqPCFCJmbsjbHLDDHDZjDjbGHsT',\n",
              " 'gwMlgmtmPcqVVvhVnvcRnn',\n",
              " 'cBNBBCHhbhNhblBcCCvcBHSwTwDQSqRwDQpDRsjHST']"
            ]
          },
          "metadata": {},
          "execution_count": 86
        }
      ]
    },
    {
      "cell_type": "code",
      "source": [
        "#assigning values to each letter and adding together\n",
        "def letter_to_number(list):\n",
        "  sum = 0\n",
        "  for i in list:\n",
        "    if i == 'a':\n",
        "      sum += 1\n",
        "    elif i == 'b':\n",
        "      sum += 2\n",
        "    elif i == 'c':\n",
        "      sum += 3\n",
        "    elif i == 'd':\n",
        "      sum += 4\n",
        "    elif i == 'e':\n",
        "      sum += 5\n",
        "    elif i == 'f':\n",
        "      sum += 6\n",
        "    elif i == 'g':\n",
        "      sum += 7\n",
        "    elif i == 'h':\n",
        "      sum += 8\n",
        "    elif i == 'i':\n",
        "      sum += 9\n",
        "    elif i == 'j':\n",
        "      sum += 10\n",
        "    elif i == 'k':\n",
        "      sum += 11\n",
        "    elif i == 'l':\n",
        "      sum += 12\n",
        "    elif i == 'm':\n",
        "      sum += 13\n",
        "    elif i == 'n':\n",
        "      sum += 14\n",
        "    elif i == 'o':\n",
        "      sum += 15\n",
        "    elif i == 'p':\n",
        "      sum += 16\n",
        "    elif i == 'q':\n",
        "      sum += 17\n",
        "    elif i == 'r':\n",
        "      sum += 18\n",
        "    elif i == 's':\n",
        "      sum += 19\n",
        "    elif i == 't':\n",
        "      sum += 20\n",
        "    elif i == 'u':\n",
        "      sum += 21\n",
        "    elif i == 'v':\n",
        "      sum += 22\n",
        "    elif i == 'w':\n",
        "      sum += 23\n",
        "    elif i == 'x':\n",
        "      sum += 24\n",
        "    elif i == 'y':\n",
        "      sum += 25\n",
        "    elif i == 'z':\n",
        "      sum += 26\n",
        "    elif i == 'A':\n",
        "      sum += 27\n",
        "    elif i == 'B':\n",
        "      sum += 28\n",
        "    elif i == 'C':\n",
        "      sum += 29\n",
        "    elif i == 'D':\n",
        "      sum += 30\n",
        "    elif i == 'E':\n",
        "      sum += 31\n",
        "    elif i == 'F':\n",
        "      sum += 32\n",
        "    elif i == 'G':\n",
        "      sum += 33\n",
        "    elif i == 'H':\n",
        "      sum += 34\n",
        "    elif i == 'I':\n",
        "      sum += 35\n",
        "    elif i == 'J':\n",
        "      sum += 36\n",
        "    elif i == 'K':\n",
        "      sum += 37\n",
        "    elif i == 'L':\n",
        "      sum += 38\n",
        "    elif i == 'M':\n",
        "      sum += 39\n",
        "    elif i == 'N':\n",
        "      sum += 40\n",
        "    elif i == 'O':\n",
        "      sum += 41\n",
        "    elif i == 'P':\n",
        "      sum += 42\n",
        "    elif i == 'Q':\n",
        "      sum += 43\n",
        "    elif i == 'R':\n",
        "      sum += 44\n",
        "    elif i == 'S':\n",
        "      sum += 45\n",
        "    elif i == 'T':\n",
        "      sum += 46\n",
        "    elif i == 'U':\n",
        "      sum += 47\n",
        "    elif i == 'V':\n",
        "      sum += 48\n",
        "    elif i == 'W':\n",
        "      sum += 49\n",
        "    elif i == 'X':\n",
        "      sum += 50\n",
        "    elif i == 'Y':\n",
        "      sum += 51\n",
        "    elif i == 'Z':\n",
        "      sum += 52\n",
        "  return sum"
      ],
      "metadata": {
        "id": "KvlwFY_FEL-6"
      },
      "execution_count": 87,
      "outputs": []
    },
    {
      "cell_type": "code",
      "source": [
        "common_letter = [] # where the common letter will be stored\n",
        "for i in range(len(cleaned_data)):\n",
        "  data1 = []\n",
        "  data2 = []\n",
        "  length = int(len(cleaned_data[i])/2)\n",
        "  for j, k in enumerate(cleaned_data[i]): #spliting each racksack into two items\n",
        "    if j < length:\n",
        "      data1.append(k)\n",
        "    else:\n",
        "      data2.append(k)\n",
        "  for k in data1:\n",
        "    for l in data2:\n",
        "      if k == l: #seeing if each character in the items are the same\n",
        "        common_letter.append(k)\n",
        "\n",
        "letter_to_number(common_letter) #converting the same charaters to numbers and finding the sum"
      ],
      "metadata": {
        "colab": {
          "base_uri": "https://localhost:8080/"
        },
        "id": "Tkcjbgc_GhPq",
        "outputId": "790abfdd-c057-41e9-b556-571a0f7eaf27"
      },
      "execution_count": 88,
      "outputs": [
        {
          "output_type": "execute_result",
          "data": {
            "text/plain": [
              "15314"
            ]
          },
          "metadata": {},
          "execution_count": 88
        }
      ]
    },
    {
      "cell_type": "code",
      "source": [
        "badge = [] #list where all badges are stored\n",
        "for i in range(0, len(cleaned_data), 3):\n",
        "  counter = []\n",
        "  for j in cleaned_data[i]: #every third row\n",
        "    for k in cleaned_data[i+1]: #every third row+1 rows\n",
        "      for l in cleaned_data[i+2]: #every third row+2 rows\n",
        "        if j == k and j == l and k == l: #seeing if character in the last three rows are the same\n",
        "          if k not in counter: #if the character appears twice in a racksack, it will result in multiple badges being recorded for each group\n",
        "            counter.append(k)\n",
        "            badge.append(l)\n",
        "\n",
        "letter_to_number(badge)"
      ],
      "metadata": {
        "colab": {
          "base_uri": "https://localhost:8080/"
        },
        "id": "SBQHWy3_TB3L",
        "outputId": "e33b9723-8702-4ada-9db8-a7f1e1a4f889"
      },
      "execution_count": 89,
      "outputs": [
        {
          "output_type": "execute_result",
          "data": {
            "text/plain": [
              "2716"
            ]
          },
          "metadata": {},
          "execution_count": 89
        }
      ]
    }
  ]
}